{
 "cells": [
  {
   "cell_type": "markdown",
   "metadata": {},
   "source": [
    "# The Birthday Paradox"
   ]
  },
  {
   "cell_type": "markdown",
   "metadata": {},
   "source": [
    "## Problem\n",
    "If you are with 22 other peoples in a room, what is the probability that 2 of the people will have the same birthday?"
   ]
  },
  {
   "cell_type": "markdown",
   "metadata": {},
   "source": [
    "## Usually\n",
    "We would think that, its a probability of 23/365 (ignore 29th of February)\n"
   ]
  },
  {
   "cell_type": "markdown",
   "metadata": {},
   "source": [
    "## However\n",
    "It's not that simple!  \n",
    "The answer to this question is actually 1/2 or 50% !  "
   ]
  },
  {
   "cell_type": "markdown",
   "metadata": {},
   "source": [
    "## What!?\n",
    "\n",
    "The question is tricky in itself, some might answer 23/365 straight away,  \n",
    "because we tend to try to match our own Birtday to other peoples,  \n",
    "but according to the question ANY 2 people that have the same birthday can be a legitmate answer.  "
   ]
  },
  {
   "cell_type": "markdown",
   "metadata": {},
   "source": [
    "## We're tend to be a bit selfish sometimes but that's okay\n",
    "\n",
    "So how does it have get 1/2?  \n",
    "We have 23 peoples in the room.  \n",
    "How many comparisons are we going to make?  \n",
    "A little hint on Combinations ( Permutations but when ordering does'nt matters, because comparing two people is two people, whoever go first is not important)  \n",
    "\n",
    "\\begin{equation*}\n",
    "nCk = \\frac{n!}{(n - k)! k!}\n",
    "\\end{equation*}\n",
    "\n",
    "Where,  \n",
    "$n$ = size of set  \n",
    "$k$ = number selected  "
   ]
  },
  {
   "cell_type": "markdown",
   "metadata": {},
   "source": [
    "## What's your answer?\n",
    "\n",
    "\\begin{equation*}\n",
    "23C2 = \\frac{23!}{(23-2)! 2!} = 253\n",
    "\\end{equation*}"
   ]
  },
  {
   "cell_type": "markdown",
   "metadata": {},
   "source": [
    "### The possibility of One person will not match with other\n",
    "\n",
    "#### Yup, you guessed it\n",
    "\\begin{equation*}\n",
    "1 - \\frac{1}{365} = \\frac{364}{365}\n",
    "\\end{equation*}"
   ]
  },
  {
   "cell_type": "markdown",
   "metadata": {},
   "source": [
    "### What Now?\n",
    "\n",
    "We're do that for 253 times.\n",
    "\n",
    "\\begin{equation*}\n",
    "\\left(\\frac{364}{365}\\right)^{253}\n",
    "\\end{equation*}"
   ]
  },
  {
   "cell_type": "markdown",
   "metadata": {},
   "source": [
    "#### We Get\n",
    "\\begin{equation*}\n",
    "49.95\n",
    "\\end{equation*}\n",
    "\n",
    "The probability of getting a match is\n",
    "\\begin{equation*}\n",
    "100 - 49.95 = 50.05\n",
    "\\end{equation*}"
   ]
  },
  {
   "cell_type": "markdown",
   "metadata": {},
   "source": [
    "## Let's simulate"
   ]
  },
  {
   "cell_type": "code",
   "execution_count": 83,
   "metadata": {},
   "outputs": [],
   "source": [
    "import numpy as np"
   ]
  },
  {
   "cell_type": "code",
   "execution_count": 104,
   "metadata": {},
   "outputs": [],
   "source": [
    "def birthdayParadox(no_of_people=23, iterations=100000):\n",
    "    same_birthday = 0\n",
    "    result = 0\n",
    "    \n",
    "    for i in range(iterations):\n",
    "        birthdays = (np.random.randint(1, high=365, size=no_of_people))\n",
    "        for x in range(len(birthdays)):\n",
    "            for y in range(len(birthdays)):\n",
    "                if x == y:\n",
    "                    pass\n",
    "                else:\n",
    "                    if birthdays[y] == birthdays[x]:\n",
    "                        same_birthday += 1\n",
    "                    else:\n",
    "                        pass\n",
    "        \n",
    "        if same_birthday != 0:\n",
    "            result += 1\n",
    "            \n",
    "        same_birthday = 0\n",
    "        \n",
    "        percentage = (result/iterations)*100\n",
    "            \n",
    "    return result, percentage"
   ]
  },
  {
   "cell_type": "code",
   "execution_count": 105,
   "metadata": {},
   "outputs": [
    {
     "data": {
      "text/plain": [
       "(51047, 51.047)"
      ]
     },
     "execution_count": 105,
     "metadata": {},
     "output_type": "execute_result"
    }
   ],
   "source": [
    "birthdayParadox()"
   ]
  },
  {
   "cell_type": "code",
   "execution_count": null,
   "metadata": {},
   "outputs": [],
   "source": []
  }
 ],
 "metadata": {
  "kernelspec": {
   "display_name": "Python 3",
   "language": "python",
   "name": "python3"
  },
  "language_info": {
   "codemirror_mode": {
    "name": "ipython",
    "version": 3
   },
   "file_extension": ".py",
   "mimetype": "text/x-python",
   "name": "python",
   "nbconvert_exporter": "python",
   "pygments_lexer": "ipython3",
   "version": "3.6.4"
  }
 },
 "nbformat": 4,
 "nbformat_minor": 2
}
