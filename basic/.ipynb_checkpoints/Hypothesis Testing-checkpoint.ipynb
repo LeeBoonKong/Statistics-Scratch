{
 "cells": [
  {
   "cell_type": "markdown",
   "metadata": {},
   "source": [
    "# Hypothesis Testing\n",
    "\n"
   ]
  },
  {
   "cell_type": "markdown",
   "metadata": {},
   "source": [
    "## Standard Deviation\n",
    "\n",
    "### Sample\n",
    "\n",
    "\\begin{equation*}\n",
    "s = \\frac{\\Sigma (xi - \\bar{x})}{N - 1}\n",
    "\\end{equation*}\n",
    "\n",
    "$N$ = number of samples  \n",
    "$\\bar{x}$ = sample mean\n",
    "\n",
    "### Population\n",
    "\\begin{equation*}\n",
    "\\sigma = \\frac{\\Sigma (X - \\mu)}{N}\n",
    "\\end{equation*}\n",
    "\n",
    "$N$ = number of samples  \n",
    "$\\mu$ = population mean"
   ]
  },
  {
   "cell_type": "markdown",
   "metadata": {},
   "source": [
    "## Z-Score"
   ]
  },
  {
   "cell_type": "markdown",
   "metadata": {},
   "source": [
    "\\begin{equation*}\n",
    "z = \\frac{X - \\mu}{\\sigma}\n",
    "\\end{equation*}\n",
    " \n",
    "$\\mu$= Population Mean  \n",
    "$\\sigma$ = Population Standard Deviation"
   ]
  },
  {
   "cell_type": "markdown",
   "metadata": {},
   "source": [
    "## T-Score"
   ]
  },
  {
   "cell_type": "markdown",
   "metadata": {},
   "source": [
    "\\begin{equation*}\n",
    "t = \\frac{X - \\bar{x}}{s}\n",
    "\\end{equation*}\n",
    " \n",
    "$\\bar{x}$= Sample Mean  \n",
    "$s$ = Sample Standard Deviation"
   ]
  },
  {
   "cell_type": "code",
   "execution_count": null,
   "metadata": {},
   "outputs": [],
   "source": []
  }
 ],
 "metadata": {
  "kernelspec": {
   "display_name": "Python 3",
   "language": "python",
   "name": "python3"
  },
  "language_info": {
   "codemirror_mode": {
    "name": "ipython",
    "version": 3
   },
   "file_extension": ".py",
   "mimetype": "text/x-python",
   "name": "python",
   "nbconvert_exporter": "python",
   "pygments_lexer": "ipython3",
   "version": "3.6.4"
  }
 },
 "nbformat": 4,
 "nbformat_minor": 2
}
